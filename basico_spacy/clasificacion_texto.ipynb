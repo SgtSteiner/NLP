{
 "cells": [
  {
   "cell_type": "markdown",
   "metadata": {},
   "source": [
    "# Clasificación de texto con Spacy\n",
    "\n",
    "El texto es una fuente de información extremadamente rica. Cada minuto, las personas envían cientos de millones de nuevos correos electrónicos y mensajes de texto. Hay una verdadera montaña de datos de texto que esperan ser extraídos para obtener información. Pero los científicos de datos que desean obtener el significado de todos esos datos de texto enfrentan un desafío: es difícil de analizar y procesar porque existe en forma no estructurada.\n",
    "\n",
    "En este tutorial, veremos cómo podemos transformar todos esos datos de texto no estructurados en algo más útil para el análisis y el procesamiento del lenguaje natural, utilizando el útil paquete de Python spaCy.\n",
    "\n",
    "Una vez que hayamos hecho esto, podremos derivar patrones y temas significativos de los datos de texto. Esto es útil en una amplia variedad de aplicaciones de ciencia de datos: filtrado de spam, tickets de soporte, análisis de redes sociales, publicidad contextual, revisión de comentarios de los clientes y más.\n",
    "\n",
    "Específicamente, vamos a echar un vistazo de alto nivel al procesamiento del lenguaje natural (PNL). Luego, analizaremos algunas de las operaciones básicas importantes para limpiar y analizar datos de texto con spaCy. Luego nos sumergiremos en la clasificación de texto, específicamente en la Clasificación de regresión logística, utilizando algunos datos del mundo real (reseñas de texto del altavoz inteligente para el hogar Alexa de Amazon)."
   ]
  },
  {
   "cell_type": "markdown",
   "metadata": {},
   "source": [
    "## ¿Qué es el procesamiento de lenguaje natural?\n",
    "El procesamiento del lenguaje natural (PNL) es una rama del aprendizaje automático que se ocupa del procesamiento, el análisis y, a veces, la generación del habla humana (\"lenguaje natural\").\n",
    "\n",
    "No hay duda de que los humanos siguen siendo mucho mejores que las máquinas para determinar el significado de una cadena de texto. Pero en ciencia de datos, a menudo nos encontramos con conjuntos de datos que son demasiado grandes para ser analizados por un humano en un período de tiempo razonable. También podemos encontrar situaciones en las que no hay humanos disponibles para analizar y responder a una entrada de texto. En estas situaciones, podemos usar técnicas de procesamiento de lenguaje natural para ayudar a las máquinas a comprender el significado del texto (y, si es necesario, responder en consecuencia).\n",
    "\n",
    "Por ejemplo, el procesamiento del lenguaje natural se usa ampliamente en el análisis de sentimientos, ya que los analistas a menudo intentan determinar el sentimiento general a partir de grandes volúmenes de datos de texto que requerirían mucho tiempo para que los humanos lo revisen. También se utiliza en la coincidencia de anuncios: determina el tema de un cuerpo de texto y asigna un anuncio relevante automáticamente. Y se usa en chatbots, asistentes de voz y otras aplicaciones donde las máquinas necesitan comprender y responder rápidamente a las entradas que vienen en forma de lenguaje humano natural."
   ]
  },
  {
   "cell_type": "markdown",
   "metadata": {},
   "source": [
    "## Análisis y procesamiento de texto con **spaCy**\n",
    "`spaCy` es una biblioteca de procesamiento de lenguaje natural de código abierto para Python. Está diseñado especialmente para uso en producción y puede ayudarnos a crear aplicaciones que procesen volúmenes masivos de texto de manera eficiente. Primero, echemos un vistazo a algunas de las tareas analíticas básicas que `SpaCy` puede manejar."
   ]
  },
  {
   "cell_type": "markdown",
   "metadata": {},
   "source": [
    "### Tokenización de texto\n",
    "La tokenización es el proceso de dividir el texto en pedazos, llamados tokens, e ignorar caracteres como signos de puntuación (,. \"‘) y espacios. El tokenizador de spaCy toma la entrada en forma de texto unicode y genera una secuencia de objetos token.\n",
    "\n",
    "Veamos un ejemplo simple. Imagine que tenemos el siguiente texto y nos gustaría tokenizarlo:\n",
    "\n",
    "> ¿Cuáles son las mejores películas de la historia del cine? Las imprescindibles, las icónicas, las que todo cinéfilo debería ver. La respuesta a esa pregunta puede cambiar mucho dependiendo a quién se pregunte.\n",
    "\n",
    "Hay un par de formas diferentes en que podemos abordar esto. El primero se llama **tokenización** de palabras, lo que significa dividir el texto en palabras individuales. Este es un paso crítico para muchas aplicaciones de procesamiento de lenguaje, ya que a menudo requieren entrada en forma de palabras individuales en lugar de cadenas de texto más largas.\n",
    "\n",
    "En el siguiente código, importaremos spaCy y su modelo en español, y le diremos que procesaremos nuestro lenguaje natural utilizando ese modelo. Luego asignaremos nuestra cadena de texto a `text`. Usando `nlp(text)`, procesaremos ese texto en spaCy y asignaremos el resultado a una variable llamada `my_doc`.\n",
    "\n",
    "En este punto, nuestro texto ya ha sido tokenizado, pero spaCy almacena el texto tokenizado como un documento, y nos gustaría verlo en forma de lista, por lo que crearemos un bucle `for` que itera a través de nuestro documento, agregando cada palabra token que encuentra en nuestra cadena de texto a una lista llamada `token_list` para que podamos ver mejor cómo se tokenizan las palabras."
   ]
  },
  {
   "cell_type": "code",
   "execution_count": 2,
   "metadata": {},
   "outputs": [],
   "source": [
    "# Importar librería y modelo de español\n",
    "import spacy\n",
    "nlp = spacy.load(\"es_core_news_sm\")"
   ]
  },
  {
   "cell_type": "code",
   "execution_count": 3,
   "metadata": {},
   "outputs": [
    {
     "name": "stdout",
     "output_type": "stream",
     "text": [
      "[La, nueva, versión, de, El, hombre, invisible, tiene, un, concepto, brillante, y, una, ejecución, irregular, ., Pero, tiene, un, concepto, brillante, ,, algo, no, tan, común, en, el, cine, fantástico, y, de, terror, contemporáneo, (, valioso, por, otras, razones, ), ,, que, de, alguna, manera, arrasa, con, todo, ., La, película, de, Leigh, Whannell, ,, y, esta, vez, tiene, mucho, sentido, hablar, de, “, la, película, de, ”, porque, estamos, ante, una, de, las, voces, más, estimulantes, del, cine, de, género, actual, (, recuperen, su, magnífico, thriller, de, ciencia, ficción, Upgrade, ), ,, cambian, el, enfoque, y, el, planteamiento, del, relato, original, ., Esta, versión, no, está, narrada, desde, el, punto, de, vista, del, monstruo, ,, aquí, presentado, –, antes, de, su, transición, a, Hombre, Invisible, –, como, un, poderoso, magnate, de, la, óptica, ., Está, narrada, desde, el, punto, de, vista, de, su, víctima, ,, su, pareja, (, una, magnífica, Elisabeth, Moss, ), ,, a, la, que, maltrata, tanto, antes, como, una, vez, convertido, en, villano, incorpóreo, ., \n",
      "\n",
      ", El, hombre, invisible, va, más, allá, del, cine, de, terror, que, capta, el, sentir, del, momento, ., No, es, cine, metafórico, ,, es, más, bien, todo, lo, contrario, :, es, un, cine, extremadamente, concreto, ., La, propuesta, de, Whannell, no, es, una, película, de, terror, que, encierra, una, alegoría, sobre, la, violencia, machista, ., Es, una, película, sobre, violencia, machista, que, pone, toda, la, artillería, del, cine, de, terror, al, servicio, de, la, expresión, del, sufrimiento, y, del, miedo, de, las, víctimas, ., Aunque, suene, a, tópico, ,, siento, que, es, importante, concretar, que, es, una, película, nacida, del, Me, Too, ., Hay, que, ponerlo, por, escrito, para, dejar, constancia, del, impacto, del, movimiento, en, el, cine, ,, de, cómo, ha, abierto, una, puerta, a, la, revisión, y, reformulación, de, las, historias, y, los, géneros, ., El, Hombre, Invisible, es, una, película, sobre, la, violencia, machista, ,, sobre, el, maltrato, ,, sobre, el, silencio, y, sobre, la, importancia, de, creer, a, las, víctimas, ., \n",
      "\n",
      ", Leigh, Whannell, es, un, cineasta, extraordinario, ., En, solo, tres, películas, como, director, ha, demostrado, que, está, bastante, por, encima, de, la, media, ., Esta, vez, ,, brilla, especialmente, en, su, descripción, de, los, espacios, que, han, sido, tomados, por, la, violencia, y, moviéndose, a, través, de, ellos, (, de, la, mansión, hi, -, tech, del, villano, a, la, modesta, casa, donde, se, refugia, la, protagonista, ), ., También, en, su, conversión, del, elemento, desestabilizador, más, sutil, (, de, los, objetos, domésticos, al, vaho, de, una, conversación, en, una, noche, fría, ), en, un, motivo, de, impacto, tan, potente, como, el, sobresalto, ,, recurso, del, que, ,, por, otro, lado, ,, no, abusa, ., Whannell, encuentra, la, manera, de, expresar, de, forma, visual, y, sonora, el, contraste, entre, una, amenaza, real, y, la, imposibilidad, de, apresarla, ,, comunicarla, y, hacer, que, el, otro, se, la, crea, ., Precisamente, por, esto, ,, por, la, claridad, y, la, contundencia, con, las, que, El, Hombre, Invisible, lanza, su, mensaje, mediante, los, recursos, (, visuales, y, sonoros, ), del, cine, de, terror, ,, sabe, tan, mal, que, a, veces, gestione, con, cierta, tosquedad, el, texto, ., Quizá, sea, porque, Whannell, no, acabe, de, creerse, su, don, para, la, imagen, aterradora, sustancial, ,, o, porque, considere, que, en, 2020, no, hay, que, andarse, con, sutilezas, para, denunciar, lo, que, está, mal, ., Pero, ,, aunque, es, un, mal, menor, en, una, propuesta, que, merece, trascender, ,, sobre, todo, ,, por, su, enfoque, de, la, historia, ,, El, Hombre, Invisible, se, resiente, de, cierta, tendencia, a, la, explicación, del, miedo, ,, la, angustia, y, la, frustración, de, la, protagonista, en, unos, códigos, más, propios, del, drama, social, (, poco, sutil, ), que, del, cine, de, terror, ., Ni, son, determinantes, ni, eclipsan, los, muchos, aciertos, de, la, película, ,, pero, esos, desajustes, están, ahí, y, a, ratos, desestabilizan, una, propuesta, muy, valiosa, pero, también, algo, irregular, ., \n",
      "\n",
      "]\n"
     ]
    }
   ],
   "source": [
    "# Abrir archivo de texto\n",
    "with open(\"ElHombreInvisible.txt\", encoding=\"utf8\") as f:\n",
    "    text = f.read()\n",
    "\n",
    "# El objeto \"nlp\" se usa para crear documentos con anotaciones lingüísticas\n",
    "my_doc = nlp(text)\n",
    "\n",
    "# Crea lista de tokens\n",
    "token_list = [token for token in my_doc]\n",
    "print(token_list)"
   ]
  },
  {
   "cell_type": "markdown",
   "metadata": {},
   "source": [
    "Como podemos ver, spaCy produce una lista que contiene cada token como un elemento separado.\n",
    "\n",
    "Primero necesitamos cargar diccionarios de idiomas. Aquí, en un ejemplo, estamos cargando el diccionario de español usando `spacy.load(\"es_core_news_sm\")` y creando un objeto nlp `nlp`. El objeto \"nlp\" se utiliza para crear documentos con anotaciones lingüísticas y varias propiedades nlp. Después de crear el documento, estamos creando una lista de tokens.\n",
    "\n",
    "Si queremos, también podemos dividir el texto en oraciones en lugar de palabras. Esto se llama **tokenización de oraciones**. Al realizar la tokenización de oraciones, el tokenizador busca caracteres específicos que se encuentran entre oraciones, como puntos, signos de exclamación y caracteres de nueva línea. Para la tokenización de oraciones, usaremos una tubería de preprocesamiento (pipeline) porque el preprocesamiento de oraciones usando spaCy incluye un tokenizador, un etiquetador, un analizador y un reconocedor de entidad al que debemos acceder para identificar correctamente qué es una oración y qué no.\n",
    "\n",
    "En el siguiente código, spaCy tokeniza el texto y crea un objeto Doc. Este objeto Doc utiliza el etiquetador de componentes, el analizador y el reconocedor de entidades de nuestro pipeline de preprocesamiento para dividir el texto en componentes. Desde este pipeline podemos extraer cualquier componente, pero aquí vamos a acceder a los tokens de oración usando el componente `sentencizer`."
   ]
  },
  {
   "cell_type": "code",
   "execution_count": 4,
   "metadata": {},
   "outputs": [
    {
     "data": {
      "text/plain": [
       "[La nueva versión de El hombre invisible tiene un concepto brillante y una ejecución irregular.,\n",
       " Pero tiene un concepto brillante, algo no tan común en el cine fantástico y de terror contemporáneo (valioso por otras razones), que de alguna manera arrasa con todo.,\n",
       " La película de Leigh Whannell, y esta vez tiene mucho sentido hablar de “la película de” porque estamos ante una de las voces más estimulantes del cine de género actual (recuperen su magnífico thriller de ciencia ficción Upgrade), cambian el enfoque y el planteamiento del relato original.,\n",
       " Esta versión no está narrada desde el punto de vista del monstruo, aquí presentado –antes de su transición a Hombre Invisible– como un poderoso magnate de la óptica.,\n",
       " Está narrada desde el punto de vista de su víctima, su pareja (una magnífica Elisabeth Moss), a la que maltrata tanto antes como una vez convertido en villano incorpóreo.\n",
       " ,\n",
       " El hombre invisible va más allá del cine de terror que capta el sentir del momento.,\n",
       " No es cine metafórico, es más bien todo lo contrario: es un cine extremadamente concreto.,\n",
       " La propuesta de Whannell no es una película de terror que encierra una alegoría sobre la violencia machista.,\n",
       " Es una película sobre violencia machista que pone toda la artillería del cine de terror al servicio de la expresión del sufrimiento y del miedo de las víctimas.,\n",
       " Aunque suene a tópico, siento que es importante concretar que es una película nacida del Me Too.,\n",
       " Hay que ponerlo por escrito para dejar constancia del impacto del movimiento en el cine, de cómo ha abierto una puerta a la revisión y reformulación de las historias y los géneros.,\n",
       " El Hombre Invisible es una película sobre la violencia machista, sobre el maltrato, sobre el silencio y sobre la importancia de creer a las víctimas.\n",
       " ,\n",
       " Leigh Whannell es un cineasta extraordinario.,\n",
       " En solo tres películas como director ha demostrado que está bastante por encima de la media.,\n",
       " Esta vez, brilla especialmente en su descripción de los espacios que han sido tomados por la violencia y moviéndose a través de ellos (de la mansión hi-tech del villano a la modesta casa donde se refugia la protagonista).,\n",
       " También en su conversión del elemento desestabilizador más sutil (de los objetos domésticos al vaho de una conversación en una noche fría) en un motivo de impacto tan potente como el sobresalto, recurso del que, por otro lado, no abusa.,\n",
       " Whannell encuentra la manera de expresar de forma visual y sonora el contraste entre una amenaza real y la imposibilidad de apresarla, comunicarla y hacer que el otro se la crea.,\n",
       " Precisamente por esto, por la claridad y la contundencia con las que El Hombre Invisible lanza su mensaje mediante los recursos (visuales y sonoros) del cine de terror, sabe tan mal que a veces gestione con cierta tosquedad el texto.,\n",
       " Quizá sea porque Whannell no acabe de creerse su don para la imagen aterradora sustancial, o porque considere que en 2020 no hay que andarse con sutilezas para denunciar lo que está mal.,\n",
       " Pero, aunque es un mal menor en una propuesta que merece trascender, sobre todo, por su enfoque de la historia, El Hombre Invisible se resiente de cierta tendencia a la explicación del miedo, la angustia y la frustración de la protagonista en unos códigos más propios del drama social (poco sutil) que del cine de terror.,\n",
       " Ni son determinantes ni eclipsan los muchos aciertos de la película, pero esos desajustes están ahí y a ratos desestabilizan una propuesta muy valiosa pero también algo irregular.\n",
       " ]"
      ]
     },
     "execution_count": 4,
     "metadata": {},
     "output_type": "execute_result"
    }
   ],
   "source": [
    "# Crea el pipeline \"sentencizer\"\n",
    "sbd = nlp.create_pipe(\"sentencizer\")\n",
    "\n",
    "# Añade el componente al pipeline\n",
    "nlp.add_pipe(sbd)\n",
    "\n",
    "# Crea lista de tokens de oración\n",
    "oracion_list = [oracion for oracion in my_doc.sents]\n",
    "oracion_list"
   ]
  },
  {
   "cell_type": "markdown",
   "metadata": {},
   "source": [
    "Nuevamente, spaCy ha analizado correctamente el texto en el formato que queremos, esta vez generando una lista de oraciones encontradas en nuestro texto fuente."
   ]
  },
  {
   "cell_type": "markdown",
   "metadata": {},
   "source": [
    "## Limpieza de datos de texto: eliminación de *Stopwords*\n",
    "La mayoría de los datos de texto con los que trabajamos contendrán muchas palabras que en realidad no nos son útiles. Estas palabras, llamadas ***stopwords***, son útiles en el habla humana, pero no tienen mucho que aportar al análisis de datos. Eliminar las palabras vacías nos ayuda a eliminar el ruido y la distracción de nuestros datos de texto y también acelera el tiempo que toma el análisis (ya que hay menos palabras para procesar).\n",
    "\n",
    "Echemos un vistazo a las palabras vacías que SpaCy incluye de forma predeterminada. Importaremos spaCy y asignaremos las palabras vacías en su modelo en español a una variable llamada spacy_stopwords para que podamos echar un vistazo."
   ]
  },
  {
   "cell_type": "code",
   "execution_count": 5,
   "metadata": {},
   "outputs": [
    {
     "name": "stdout",
     "output_type": "stream",
     "text": [
      "Número de palabras vacías: 551\n",
      "{'próximos', 'estuvo', 'cuál', 'más', 'esta', 'la', 'tus', 'emplean', 'hicieron', 'principalmente', 'tarde', 'mío', 'estados', 'aun', 'muchos', 'tres', 'consigue', 'diferente', 'hago', 'nuevos', 'asi', 'estan', 'mí', 'suyas', 'ya', 'hay', 'haceis', 'ninguno', 'adelante', 'arriba', 'partir', 'por', 'va', 'actualmente', 'pasado', 'da', 'trabajas', 'otro', 'ambos', 'el', 'posible', 'deprisa', 'conseguimos', 'vamos', 'hacer', 'hace', 'ningunos', 'bien', 'poder', 'ésas', 'tenía', 'cuatro', 'otras', 'detrás', 'podriamos', 'aún', 'dias', 'quizás', 'tercera', 'trabajais', 'cuanta', 'alrededor', 'bueno', 'fuera', 'ti', 'usais', 'dijeron', 'sin', 'existen', 'usamos', 'ampleamos', 'supuesto', 'algún', 'queremos', 'saber', 'vuestro', 'ser', 'yo', 'mientras', 'igual', 'estaba', 'enfrente', 'mucha', 'fin', 'intentas', 'no', 'buen', 'usa', 'mis', 'hoy', 'mal', 'ver', 'llevar', 'cuando', 'te', 'solo', 'cada', 'mia', 'trata', 'cierta', 'siete', 'trabaja', 'ocho', 'cuáles', 'ella', 'pronto', 'tendrá', 'consigo', 'decir', 'que', 'aquéllos', 'conmigo', 'éste', 'las', 'aquél', 'según', 'quedó', 'poca', 'deben', 'vais', 'están', 'segunda', 'dicen', 'tu', 'os', 'eran', 'otra', 'ellas', 'expresó', 'tenido', 'durante', 'propios', 'gueno', 'antaño', 'ha', 'segundo', 'través', 'sería', 'antano', 'aquella', 'alli', 'vuestros', 'cuanto', 'ex', 'demasiado', 'dentro', 'mio', 'largo', 'bastante', 'otros', 'él', 'uno', 'dio', 'sois', 'atras', 'podriais', 'alguna', 'primer', 'conseguir', 'encima', 'gran', 'mismas', 'un', 'fui', 'hablan', 'qué', 'casi', 'contra', 'trabajan', 'vuestras', 'mismo', 'sabemos', 'sí', 'buenos', 'dicho', 'propias', 'mía', 'verdadera', 'apenas', 'sea', 'trabajar', 'cuántas', 'estas', 'hubo', 'unos', 'míos', 'van', 'lleva', 'podemos', 'quiere', 'tendrán', 'podrán', 'intentais', 'dar', 'cuánto', 'acuerdo', 'estar', 'temprano', 'pocos', 'seis', 'podrían', 'ésos', 'si', 'dan', 'ésa', 'porque', 'muy', 'lo', 'verdad', 'parte', 'dice', 'incluso', 'quien', 'podrian', 'cinco', 'ayer', 'vaya', 'sola', 'podría', 'nada', 'ningún', 'nosotros', 'vez', 'explicó', 'de', 'sólo', 'pocas', 'dieron', 'dia', 'breve', 'mas', 'estado', 'estais', 'último', 'entonces', 'esas', 'tuyas', 'aquellas', 'dos', 'después', 'debajo', 'allí', 'como', 'días', 'tambien', 'quienes', 'siempre', 'quién', 'despues', 'final', 'nuestras', 'estos', 'informó', 'haya', 'cosas', 'cierto', 'siendo', 'consigues', 'debido', 'raras', 'en', 'conocer', 'donde', 'junto', 'nueva', 'poco', 'varios', 'cuantos', 'dejó', 'su', 'ahora', 'soyos', 'aquí', 'uso', 'intentan', 'éstas', 'bajo', 'fue', 'consideró', 'añadió', 'eras', 'sé', 'consiguen', 'empleais', 'algunas', 'tampoco', 'realizar', 'considera', 'había', 'teneis', 'usted', 'era', 'aquéllas', 'nosotras', 'próximo', 'me', 'nunca', 'les', 'ésta', 'segun', 'mencionó', 'aquel', 'estamos', 'pueden', 'hasta', 'alguno', 'llegó', 'ningunas', 'pero', 'embargo', 'cualquier', 'grandes', 'quizá', 'ese', 'antes', 'una', 'cerca', 'puedo', 'respecto', 'voy', 'esa', 'primera', 'serán', 'pudo', 'haciendo', 'usan', 'ahí', 'cuantas', 'manera', 'sean', 'nuestro', 'veces', 'usar', 'algo', 'pueda', 'vuestra', 'quiénes', 'haber', 'pais', 'intenta', 'fueron', 'se', 'éstos', 'solos', 'todas', 'últimas', 'empleo', 'menudo', 'luego', 'qeu', 'tener', 'comentó', 'intentamos', 'día', 'hacemos', 'modo', 'usas', 'nos', 'aquello', 'podeis', 'lado', 'estoy', 'soy', 'tanto', 'unas', 'mejor', 'también', 'enseguida', 'trabajamos', 'despacio', 'señaló', 'han', 'mayor', 'mismos', 'arribaabajo', 'detras', 'creo', 'sabe', 'salvo', 'al', 'delante', 'nadie', 'todavía', 'ademas', 'lugar', 'toda', 'está', 'indicó', 'empleas', 'todos', 'quizas', 'tan', 'cuántos', 'entre', 'vosotras', 'adrede', 'cuales', 'podrias', 'nuestra', 'ése', 'es', 'los', 'repente', 'lejos', 'peor', 'dado', 'muchas', 'realizó', 'claro', 'hacerlo', 'tras', 'saben', 'solamente', 'encuentra', 'he', 'desde', 'ejemplo', 'tenga', 'tuvo', 'ciertas', 'momento', 'tengo', 'haces', 'son', 'misma', 'vosotros', 'emplear', 'algunos', 'ultimo', 'propio', 'trabajo', 'sido', 'pasada', 'buenas', 'solas', 'suya', 'hemos', 'ahi', 'habla', 'mios', 'tienen', 'manifestó', 'tenemos', 'tiempo', 'intento', 'anterior', 'nuevas', 'este', 'mi', 'tú', 'valor', 'siguiente', 'menos', 'tuyos', 'mediante', 'mias', 'primero', 'suyo', 'poner', 'ellos', 'cual', 'aseguró', 'propia', 'fuimos', 'cómo', 'ello', 'eres', 'últimos', 'ante', 'ciertos', 'todo', 'realizado', 'para', 'parece', 'medio', 'será', 'eramos', 'podrá', 'hecho', 'aquellos', 'sabeis', 'hacen', 'nuestros', 'contigo', 'sino', 'ni', 'dónde', 'somos', 'además', 'hacia', 'sus', 'tiene', 'dijo', 'agregó', 'cuenta', 'varias', 'pues', 'total', 'del', 'aunque', 'sabes', 'afirmó', 'mías', 'cuánta', 'existe', 'diferentes', 'tal', 'cuándo', 'estará', 'ustedes', 'buena', 'habrá', 'eso', 'quiza', 'horas', 'excepto', 'ir', 'podria', 'todavia', 'informo', 'estaban', 'le', 'habían', 'hizo', 'sobre', 'nuevo', 'última', 'pesar', 'paìs', 'tuyo', 'esos', 'debe', 'aqui', 'verdadero', 'tuya', 'habia', 'sigue', 'intentar', 'aproximadamente', 'con', 'proximo', 'primeros', 'demás', 'aquélla', 'esto', 'ninguna', 'sera', 'así', 'mucho', 'general', 'puede'}\n"
     ]
    }
   ],
   "source": [
    "# Importar las palabras vacías del lenguaje español\n",
    "spacy_stopwords = spacy.lang.es.stop_words.STOP_WORDS\n",
    "\n",
    "# Imprimir el número total de palabras vacías\n",
    "print(\"Número de palabras vacías: {}\".format(len(spacy_stopwords)))\n",
    "\n",
    "# Imprimir las palabras vacías\n",
    "print(spacy_stopwords)"
   ]
  },
  {
   "cell_type": "markdown",
   "metadata": {},
   "source": [
    "Como podemos ver, la lista predeterminada de palabras vacías en español de spaCy incluye 551 entradas totales y cada entrada es una sola palabra. También podemos ver por qué muchas de estas palabras no serían útiles para el análisis de datos.\n",
    "\n",
    "Si quisiéramos, también podríamos crear nuestra propia lista personalizada de palabras clave. Pero para nuestros propósitos en este tutorial, la lista predeterminada que proporciona spaCy estará bien."
   ]
  },
  {
   "cell_type": "markdown",
   "metadata": {},
   "source": [
    "### Eliminar palabras vacías de nuestros datos\n",
    "Ahora que tenemos nuestra lista de palabras vacías, usémosla para eliminar las palabras vacías en el texto en el que estábamos trabajando.\n",
    "\n",
    "spaCy incluye un montón de [atributos de token útiles](https://spacy.io/usage/rule-based-matching#adding-patterns-attributes) y usaremos uno de ellos llamado `is_stop` para identificar palabras que no están en la lista de palabras clave y luego las agregaremos a nuestra lista `oraciones_filter`."
   ]
  },
  {
   "cell_type": "code",
   "execution_count": 6,
   "metadata": {},
   "outputs": [
    {
     "name": "stdout",
     "output_type": "stream",
     "text": [
      "[versión, hombre, invisible, concepto, brillante, y, ejecución, irregular, ., concepto, brillante, ,, común, cine, fantástico, y, terror, contemporáneo, (, valioso, razones, ), ,, arrasa, ., película, Leigh, Whannell, ,, y, sentido, hablar, “, película, ”, voces, estimulantes, cine, género, actual, (, recuperen, magnífico, thriller, ciencia, ficción, Upgrade, ), ,, cambian, enfoque, y, planteamiento, relato, original, ., versión, narrada, punto, vista, monstruo, ,, presentado, –, transición, a, Hombre, Invisible, –, poderoso, magnate, óptica, ., narrada, punto, vista, víctima, ,, pareja, (, magnífica, Elisabeth, Moss, ), ,, a, maltrata, convertido, villano, incorpóreo, ., \n",
      "\n",
      ", hombre, invisible, allá, cine, terror, capta, sentir, ., cine, metafórico, ,, contrario, :, cine, extremadamente, concreto, ., propuesta, Whannell, película, terror, encierra, alegoría, violencia, machista, ., película, violencia, machista, pone, artillería, cine, terror, servicio, expresión, sufrimiento, y, miedo, víctimas, ., suene, a, tópico, ,, siento, importante, concretar, película, nacida, Too, ., ponerlo, escrito, dejar, constancia, impacto, movimiento, cine, ,, abierto, puerta, a, revisión, y, reformulación, historias, y, géneros, ., Hombre, Invisible, película, violencia, machista, ,, maltrato, ,, silencio, y, importancia, creer, a, víctimas, ., \n",
      "\n",
      ", Leigh, Whannell, cineasta, extraordinario, ., películas, director, demostrado, media, ., ,, brilla, especialmente, descripción, espacios, tomados, violencia, y, moviéndose, a, (, mansión, hi, -, tech, villano, a, modesta, casa, refugia, protagonista, ), ., conversión, elemento, desestabilizador, sutil, (, objetos, domésticos, vaho, conversación, noche, fría, ), motivo, impacto, potente, sobresalto, ,, recurso, ,, ,, abusa, ., Whannell, expresar, forma, visual, y, sonora, contraste, amenaza, real, y, imposibilidad, apresarla, ,, comunicarla, y, crea, ., Precisamente, ,, claridad, y, contundencia, Hombre, Invisible, lanza, mensaje, recursos, (, visuales, y, sonoros, ), cine, terror, ,, a, gestione, tosquedad, texto, ., Whannell, acabe, creerse, don, imagen, aterradora, sustancial, ,, o, considere, 2020, andarse, sutilezas, denunciar, ., ,, menor, propuesta, merece, trascender, ,, ,, enfoque, historia, ,, Hombre, Invisible, resiente, tendencia, a, explicación, miedo, ,, angustia, y, frustración, protagonista, códigos, drama, social, (, sutil, ), cine, terror, ., determinantes, eclipsan, aciertos, película, ,, desajustes, y, a, ratos, desestabilizan, propuesta, valiosa, irregular, ., \n",
      "\n",
      "]\n"
     ]
    }
   ],
   "source": [
    "oraciones_filter = [word for word in my_doc if not word.is_stop]\n",
    "print(oraciones_filter)"
   ]
  },
  {
   "cell_type": "markdown",
   "metadata": {},
   "source": [
    "No es demasiado difícil ver por qué las palabras vacías pueden ser útiles. Eliminarlas ha reducido nuestro texto original a un número bastante menor de palabras que nos dan una buena idea de lo que están expresando las oraciones."
   ]
  },
  {
   "cell_type": "markdown",
   "metadata": {},
   "source": [
    "## Normalización de léxico\n",
    "La normalización del léxico es otro paso en el proceso de limpieza de datos de texto. En general, la normalización convierte las características de alta dimensión en características de baja dimensión que son apropiadas para cualquier modelo de aprendizaje automático. Para nuestros propósitos aquí, solo vamos a ver la **lematización**, una forma de procesar palabras que las reduce a sus raíces.\n",
    "\n",
    "### Lematización\n",
    "La lematización es una forma de lidiar con el hecho de que, si bien palabras como *conexión*, *conectar*, *conectando*, *conectado*, etc. no son exactamente lo mismo, todas tienen el mismo significado esencial: *conectar*. Las diferencias en la ortografía tienen funciones gramaticales en el lenguaje hablado, pero para el procesamiento automático, esas diferencias pueden ser confusas, por lo que necesitamos una forma de cambiar todas las palabras que son *formas* de la palabra *conectar* a la palabra *conectar* a sí misma.\n",
    "\n",
    "Un método para hacer esto se llama ***stemming***. El stemming implica simplemente cortar prefijos y sufijos fácilmente identificables para producir lo que a menudo es la versión más simple de una palabra (raiz). Este tipo de truncado simple a menudo es todo lo que se necesita, pero la lematización, que en realidad analiza las palabras y sus raíces (llamadas lemas) como se describe en el diccionario, es más precisa (siempre que las palabras existan en el diccionario).\n",
    "\n",
    "Dado que spaCy incluye una forma integrada de dividir una palabra en su lema, simplemente podemos usar eso para la lematización. En el siguiente ejemplo muy simple, usaremos `.lemma_` para producir el lema para cada palabra que estamos analizando."
   ]
  },
  {
   "cell_type": "code",
   "execution_count": 7,
   "metadata": {},
   "outputs": [
    {
     "name": "stdout",
     "output_type": "stream",
     "text": [
      "comer comer\n",
      "comida comer\n",
      "comiendo comer\n",
      "comiste comer\n",
      "comedor comedor\n"
     ]
    }
   ],
   "source": [
    "for word in nlp(\"comer comida comiendo comiste comedor\"):\n",
    "    print(word.text, word.lemma_)"
   ]
  },
  {
   "cell_type": "markdown",
   "metadata": {},
   "source": [
    "## Etiquetado gramatical (POS - part-of-speech tagging)\n",
    "El etiquetado gramatical es el proceso de asignar a cada una de las palabras su categoría gramatical. Un sustantivo, por ejemplo, identifica un objeto. Un adjetivo describe un objeto. Un verbo describe la acción. La identificación y etiquetado de la parte del discurso de cada palabra en el contexto de una oración se denomina etiquetado gramatical o etiquetado POS.\n",
    "\n",
    "¡Intentemos algunas etiquetas de POS con spaCy!"
   ]
  },
  {
   "cell_type": "code",
   "execution_count": 8,
   "metadata": {},
   "outputs": [
    {
     "name": "stdout",
     "output_type": "stream",
     "text": [
      "La DET\n",
      "nueva ADJ\n",
      "versión NOUN\n",
      "de ADP\n",
      "El DET\n",
      "hombre NOUN\n",
      "invisible ADJ\n",
      "tiene VERB\n",
      "un DET\n",
      "concepto NOUN\n",
      "brillante ADJ\n",
      "y CONJ\n",
      "una DET\n",
      "ejecución NOUN\n",
      "irregular ADJ\n",
      ". PUNCT\n",
      "Pero CONJ\n",
      "tiene VERB\n",
      "un DET\n",
      "concepto NOUN\n",
      "brillante ADJ\n",
      ", PUNCT\n",
      "algo PRON\n",
      "no ADV\n",
      "tan ADV\n"
     ]
    }
   ],
   "source": [
    "# usamos solo las primeras 25 palabras\n",
    "for word in my_doc[:25]:\n",
    "    print(word.text, word.pos_)"
   ]
  },
  {
   "cell_type": "markdown",
   "metadata": {},
   "source": [
    "¡Bien! spaCy ha identificado correctamente cada palabra en esta oración. Ser capaz de identificarlas es útil en una variedad de contextos relacionados con el PNL, porque ayuda a comprender con mayor precisión las oraciones de entrada y a construir con mayor precisión las respuestas de salida."
   ]
  },
  {
   "cell_type": "markdown",
   "metadata": {},
   "source": [
    "## Detección de entidades\n",
    "La **detección de entidades**, también denominada reconocimiento de entidades, es una forma más avanzada de procesamiento del lenguaje que identifica elementos importantes como lugares, personas, organizaciones e idiomas dentro de una cadena de texto de entrada. Esto es realmente útil para extraer rápidamente información del texto, ya que puede seleccionar rápidamente temas importantes o identificar secciones clave de texto.\n",
    "\n",
    "Probemos alguna detección de entidades usando algunos párrafos. Usaremos `.label` para tomar una etiqueta para cada entidad que se detecte en el texto, y luego veremos estas entidades en un formato más visual usando `displaCy` de spaCy."
   ]
  },
  {
   "cell_type": "code",
   "execution_count": 9,
   "metadata": {},
   "outputs": [
    {
     "data": {
      "text/plain": [
       "[(Club Atlético de Madrid, 'ORG', 383),\n",
       " (Madrid, 'LOC', 385),\n",
       " (Compite, 'LOC', 385),\n",
       " (Primera División de España, 'MISC', 7654241940133152407),\n",
       " (Estadio Metropolitano, 'LOC', 385)]"
      ]
     },
     "execution_count": 9,
     "metadata": {},
     "output_type": "execute_result"
    }
   ],
   "source": [
    "from spacy import displacy\n",
    "\n",
    "texto = nlp(\"El Club Atlético de Madrid es un club de fútbol español de la ciudad de Madrid, fundado el 26 de abril de 1903. Compite actualmente en la Primera División de España y disputa sus partidos como local desde la temporada 2017/18, en el Estadio Metropolitano, con capacidad de 69.829 espectadores\")\n",
    "\n",
    "entidades = [(i, i.label_, i.label) for i in texto.ents]\n",
    "entidades"
   ]
  },
  {
   "cell_type": "markdown",
   "metadata": {},
   "source": [
    "Usando esta técnica, podemos identificar una variedad de entidades dentro del texto. La documentación de spaCy proporciona una [lista completa de tipos de entidades compatibles](https://spacy.io/api/annotation#named-entities), y podemos ver en el breve ejemplo anterior que puede identificar una variedad de tipos de entidades diferentes, incluidas ubicaciones (LOC), compañías e instituciones (ORG), etc.\n",
    "\n",
    "Usando `DisplaCy` también podemos visualizar nuestro texto de entrada, con cada entidad identificada resaltada por color y etiquetada. Utilizaremos `style = \"ent\"` para indicar a `DisplaCy` que queremos visualizar entidades aquí."
   ]
  },
  {
   "cell_type": "code",
   "execution_count": 10,
   "metadata": {},
   "outputs": [
    {
     "data": {
      "text/html": [
       "<span class=\"tex2jax_ignore\"><div class=\"entities\" style=\"line-height: 2.5; direction: ltr\">El \n",
       "<mark class=\"entity\" style=\"background: #7aecec; padding: 0.45em 0.6em; margin: 0 0.25em; line-height: 1; border-radius: 0.35em;\">\n",
       "    Club Atlético de Madrid\n",
       "    <span style=\"font-size: 0.8em; font-weight: bold; line-height: 1; border-radius: 0.35em; text-transform: uppercase; vertical-align: middle; margin-left: 0.5rem\">ORG</span>\n",
       "</mark>\n",
       " es un club de fútbol español de la ciudad de \n",
       "<mark class=\"entity\" style=\"background: #ff9561; padding: 0.45em 0.6em; margin: 0 0.25em; line-height: 1; border-radius: 0.35em;\">\n",
       "    Madrid\n",
       "    <span style=\"font-size: 0.8em; font-weight: bold; line-height: 1; border-radius: 0.35em; text-transform: uppercase; vertical-align: middle; margin-left: 0.5rem\">LOC</span>\n",
       "</mark>\n",
       ", fundado el 26 de abril de 1903. \n",
       "<mark class=\"entity\" style=\"background: #ff9561; padding: 0.45em 0.6em; margin: 0 0.25em; line-height: 1; border-radius: 0.35em;\">\n",
       "    Compite\n",
       "    <span style=\"font-size: 0.8em; font-weight: bold; line-height: 1; border-radius: 0.35em; text-transform: uppercase; vertical-align: middle; margin-left: 0.5rem\">LOC</span>\n",
       "</mark>\n",
       " actualmente en la \n",
       "<mark class=\"entity\" style=\"background: #ddd; padding: 0.45em 0.6em; margin: 0 0.25em; line-height: 1; border-radius: 0.35em;\">\n",
       "    Primera División de España\n",
       "    <span style=\"font-size: 0.8em; font-weight: bold; line-height: 1; border-radius: 0.35em; text-transform: uppercase; vertical-align: middle; margin-left: 0.5rem\">MISC</span>\n",
       "</mark>\n",
       " y disputa sus partidos como local desde la temporada 2017/18, en el \n",
       "<mark class=\"entity\" style=\"background: #ff9561; padding: 0.45em 0.6em; margin: 0 0.25em; line-height: 1; border-radius: 0.35em;\">\n",
       "    Estadio Metropolitano\n",
       "    <span style=\"font-size: 0.8em; font-weight: bold; line-height: 1; border-radius: 0.35em; text-transform: uppercase; vertical-align: middle; margin-left: 0.5rem\">LOC</span>\n",
       "</mark>\n",
       ", con capacidad de 69.829 espectadores</div></span>"
      ],
      "text/plain": [
       "<IPython.core.display.HTML object>"
      ]
     },
     "metadata": {},
     "output_type": "display_data"
    }
   ],
   "source": [
    "displacy.render(texto, style = \"ent\")"
   ]
  },
  {
   "cell_type": "markdown",
   "metadata": {},
   "source": [
    "## Análisis de dependencia\n",
    "El **análisis de dependencias** es una técnica de procesamiento del lenguaje que nos permite determinar mejor el significado de una oración analizando cómo se construye para determinar cómo se relacionan las palabras individuales entre sí.\n",
    "\n",
    "Consideremos, por ejemplo, la oración \"Juan tira la pelota\". Tenemos dos sustantivos (Juan y pelota) y un verbo (tira). Para entender la oración correctamente, debemos observar el orden de las palabras y la estructura de la oración, no solo las palabras y sus etiquetas gramaticales.\n",
    "\n",
    "Hacer esto es bastante complicado, pero afortunadamente spaCy se encargará del trabajo por nosotros. Usaremos `noun_chunks`, que divide la entrada en sustantivos y las palabras que los describen, e iteramos a través de cada fragmento en nuestro texto fuente, identificando la palabra, su raíz, su identificación de dependencia y a qué fragmento pertenece."
   ]
  },
  {
   "cell_type": "code",
   "execution_count": 11,
   "metadata": {},
   "outputs": [
    {
     "name": "stdout",
     "output_type": "stream",
     "text": [
      "El Club Atlético de Madrid Club nsubj club\n",
      "un club club ROOT club\n",
      "fútbol fútbol nmod club\n",
      "la ciudad ciudad nmod club\n",
      "Madrid Madrid nmod ciudad\n"
     ]
    }
   ],
   "source": [
    "texto = nlp(\"El Club Atlético de Madrid es un club de fútbol español de la ciudad de Madrid\")\n",
    "\n",
    "for chunk in texto.noun_chunks:\n",
    "    print(chunk.text, chunk.root.text, chunk.root.dep_, chunk.root.head.text)"
   ]
  },
  {
   "cell_type": "markdown",
   "metadata": {},
   "source": [
    "Esta salida puede ser un poco difícil de seguir, pero como ya importamos el visualizador `displaCy`, podemos usarlo para ver un diagrama de dependencia usando `style = \"dep\"` que es mucho más fácil de entender:"
   ]
  },
  {
   "cell_type": "code",
   "execution_count": 12,
   "metadata": {},
   "outputs": [
    {
     "data": {
      "text/html": [
       "<span class=\"tex2jax_ignore\"><svg xmlns=\"http://www.w3.org/2000/svg\" xmlns:xlink=\"http://www.w3.org/1999/xlink\" xml:lang=\"es\" id=\"7bfc9a67e99145ccb02dfde3b870d362-0\" class=\"displacy\" width=\"2850\" height=\"487.0\" direction=\"ltr\" style=\"max-width: none; height: 487.0px; color: #000000; background: #ffffff; font-family: Arial; direction: ltr\">\n",
       "<text class=\"displacy-token\" fill=\"currentColor\" text-anchor=\"middle\" y=\"397.0\">\n",
       "    <tspan class=\"displacy-word\" fill=\"currentColor\" x=\"50\">El</tspan>\n",
       "    <tspan class=\"displacy-tag\" dy=\"2em\" fill=\"currentColor\" x=\"50\">DET</tspan>\n",
       "</text>\n",
       "\n",
       "<text class=\"displacy-token\" fill=\"currentColor\" text-anchor=\"middle\" y=\"397.0\">\n",
       "    <tspan class=\"displacy-word\" fill=\"currentColor\" x=\"225\">Club</tspan>\n",
       "    <tspan class=\"displacy-tag\" dy=\"2em\" fill=\"currentColor\" x=\"225\">PROPN</tspan>\n",
       "</text>\n",
       "\n",
       "<text class=\"displacy-token\" fill=\"currentColor\" text-anchor=\"middle\" y=\"397.0\">\n",
       "    <tspan class=\"displacy-word\" fill=\"currentColor\" x=\"400\">Atlético</tspan>\n",
       "    <tspan class=\"displacy-tag\" dy=\"2em\" fill=\"currentColor\" x=\"400\">PROPN</tspan>\n",
       "</text>\n",
       "\n",
       "<text class=\"displacy-token\" fill=\"currentColor\" text-anchor=\"middle\" y=\"397.0\">\n",
       "    <tspan class=\"displacy-word\" fill=\"currentColor\" x=\"575\">de</tspan>\n",
       "    <tspan class=\"displacy-tag\" dy=\"2em\" fill=\"currentColor\" x=\"575\">ADP</tspan>\n",
       "</text>\n",
       "\n",
       "<text class=\"displacy-token\" fill=\"currentColor\" text-anchor=\"middle\" y=\"397.0\">\n",
       "    <tspan class=\"displacy-word\" fill=\"currentColor\" x=\"750\">Madrid</tspan>\n",
       "    <tspan class=\"displacy-tag\" dy=\"2em\" fill=\"currentColor\" x=\"750\">PROPN</tspan>\n",
       "</text>\n",
       "\n",
       "<text class=\"displacy-token\" fill=\"currentColor\" text-anchor=\"middle\" y=\"397.0\">\n",
       "    <tspan class=\"displacy-word\" fill=\"currentColor\" x=\"925\">es</tspan>\n",
       "    <tspan class=\"displacy-tag\" dy=\"2em\" fill=\"currentColor\" x=\"925\">AUX</tspan>\n",
       "</text>\n",
       "\n",
       "<text class=\"displacy-token\" fill=\"currentColor\" text-anchor=\"middle\" y=\"397.0\">\n",
       "    <tspan class=\"displacy-word\" fill=\"currentColor\" x=\"1100\">un</tspan>\n",
       "    <tspan class=\"displacy-tag\" dy=\"2em\" fill=\"currentColor\" x=\"1100\">DET</tspan>\n",
       "</text>\n",
       "\n",
       "<text class=\"displacy-token\" fill=\"currentColor\" text-anchor=\"middle\" y=\"397.0\">\n",
       "    <tspan class=\"displacy-word\" fill=\"currentColor\" x=\"1275\">club</tspan>\n",
       "    <tspan class=\"displacy-tag\" dy=\"2em\" fill=\"currentColor\" x=\"1275\">NOUN</tspan>\n",
       "</text>\n",
       "\n",
       "<text class=\"displacy-token\" fill=\"currentColor\" text-anchor=\"middle\" y=\"397.0\">\n",
       "    <tspan class=\"displacy-word\" fill=\"currentColor\" x=\"1450\">de</tspan>\n",
       "    <tspan class=\"displacy-tag\" dy=\"2em\" fill=\"currentColor\" x=\"1450\">ADP</tspan>\n",
       "</text>\n",
       "\n",
       "<text class=\"displacy-token\" fill=\"currentColor\" text-anchor=\"middle\" y=\"397.0\">\n",
       "    <tspan class=\"displacy-word\" fill=\"currentColor\" x=\"1625\">fútbol</tspan>\n",
       "    <tspan class=\"displacy-tag\" dy=\"2em\" fill=\"currentColor\" x=\"1625\">NOUN</tspan>\n",
       "</text>\n",
       "\n",
       "<text class=\"displacy-token\" fill=\"currentColor\" text-anchor=\"middle\" y=\"397.0\">\n",
       "    <tspan class=\"displacy-word\" fill=\"currentColor\" x=\"1800\">español</tspan>\n",
       "    <tspan class=\"displacy-tag\" dy=\"2em\" fill=\"currentColor\" x=\"1800\">ADJ</tspan>\n",
       "</text>\n",
       "\n",
       "<text class=\"displacy-token\" fill=\"currentColor\" text-anchor=\"middle\" y=\"397.0\">\n",
       "    <tspan class=\"displacy-word\" fill=\"currentColor\" x=\"1975\">de</tspan>\n",
       "    <tspan class=\"displacy-tag\" dy=\"2em\" fill=\"currentColor\" x=\"1975\">ADP</tspan>\n",
       "</text>\n",
       "\n",
       "<text class=\"displacy-token\" fill=\"currentColor\" text-anchor=\"middle\" y=\"397.0\">\n",
       "    <tspan class=\"displacy-word\" fill=\"currentColor\" x=\"2150\">la</tspan>\n",
       "    <tspan class=\"displacy-tag\" dy=\"2em\" fill=\"currentColor\" x=\"2150\">DET</tspan>\n",
       "</text>\n",
       "\n",
       "<text class=\"displacy-token\" fill=\"currentColor\" text-anchor=\"middle\" y=\"397.0\">\n",
       "    <tspan class=\"displacy-word\" fill=\"currentColor\" x=\"2325\">ciudad</tspan>\n",
       "    <tspan class=\"displacy-tag\" dy=\"2em\" fill=\"currentColor\" x=\"2325\">NOUN</tspan>\n",
       "</text>\n",
       "\n",
       "<text class=\"displacy-token\" fill=\"currentColor\" text-anchor=\"middle\" y=\"397.0\">\n",
       "    <tspan class=\"displacy-word\" fill=\"currentColor\" x=\"2500\">de</tspan>\n",
       "    <tspan class=\"displacy-tag\" dy=\"2em\" fill=\"currentColor\" x=\"2500\">ADP</tspan>\n",
       "</text>\n",
       "\n",
       "<text class=\"displacy-token\" fill=\"currentColor\" text-anchor=\"middle\" y=\"397.0\">\n",
       "    <tspan class=\"displacy-word\" fill=\"currentColor\" x=\"2675\">Madrid</tspan>\n",
       "    <tspan class=\"displacy-tag\" dy=\"2em\" fill=\"currentColor\" x=\"2675\">PROPN</tspan>\n",
       "</text>\n",
       "\n",
       "<g class=\"displacy-arrow\">\n",
       "    <path class=\"displacy-arc\" id=\"arrow-7bfc9a67e99145ccb02dfde3b870d362-0-0\" stroke-width=\"2px\" d=\"M70,352.0 C70,264.5 210.0,264.5 210.0,352.0\" fill=\"none\" stroke=\"currentColor\"/>\n",
       "    <text dy=\"1.25em\" style=\"font-size: 0.8em; letter-spacing: 1px\">\n",
       "        <textPath xlink:href=\"#arrow-7bfc9a67e99145ccb02dfde3b870d362-0-0\" class=\"displacy-label\" startOffset=\"50%\" side=\"left\" fill=\"currentColor\" text-anchor=\"middle\">det</textPath>\n",
       "    </text>\n",
       "    <path class=\"displacy-arrowhead\" d=\"M70,354.0 L62,342.0 78,342.0\" fill=\"currentColor\"/>\n",
       "</g>\n",
       "\n",
       "<g class=\"displacy-arrow\">\n",
       "    <path class=\"displacy-arc\" id=\"arrow-7bfc9a67e99145ccb02dfde3b870d362-0-1\" stroke-width=\"2px\" d=\"M245,352.0 C245,2.0 1275.0,2.0 1275.0,352.0\" fill=\"none\" stroke=\"currentColor\"/>\n",
       "    <text dy=\"1.25em\" style=\"font-size: 0.8em; letter-spacing: 1px\">\n",
       "        <textPath xlink:href=\"#arrow-7bfc9a67e99145ccb02dfde3b870d362-0-1\" class=\"displacy-label\" startOffset=\"50%\" side=\"left\" fill=\"currentColor\" text-anchor=\"middle\">nsubj</textPath>\n",
       "    </text>\n",
       "    <path class=\"displacy-arrowhead\" d=\"M245,354.0 L237,342.0 253,342.0\" fill=\"currentColor\"/>\n",
       "</g>\n",
       "\n",
       "<g class=\"displacy-arrow\">\n",
       "    <path class=\"displacy-arc\" id=\"arrow-7bfc9a67e99145ccb02dfde3b870d362-0-2\" stroke-width=\"2px\" d=\"M245,352.0 C245,264.5 385.0,264.5 385.0,352.0\" fill=\"none\" stroke=\"currentColor\"/>\n",
       "    <text dy=\"1.25em\" style=\"font-size: 0.8em; letter-spacing: 1px\">\n",
       "        <textPath xlink:href=\"#arrow-7bfc9a67e99145ccb02dfde3b870d362-0-2\" class=\"displacy-label\" startOffset=\"50%\" side=\"left\" fill=\"currentColor\" text-anchor=\"middle\">flat</textPath>\n",
       "    </text>\n",
       "    <path class=\"displacy-arrowhead\" d=\"M385.0,354.0 L393.0,342.0 377.0,342.0\" fill=\"currentColor\"/>\n",
       "</g>\n",
       "\n",
       "<g class=\"displacy-arrow\">\n",
       "    <path class=\"displacy-arc\" id=\"arrow-7bfc9a67e99145ccb02dfde3b870d362-0-3\" stroke-width=\"2px\" d=\"M595,352.0 C595,264.5 735.0,264.5 735.0,352.0\" fill=\"none\" stroke=\"currentColor\"/>\n",
       "    <text dy=\"1.25em\" style=\"font-size: 0.8em; letter-spacing: 1px\">\n",
       "        <textPath xlink:href=\"#arrow-7bfc9a67e99145ccb02dfde3b870d362-0-3\" class=\"displacy-label\" startOffset=\"50%\" side=\"left\" fill=\"currentColor\" text-anchor=\"middle\">case</textPath>\n",
       "    </text>\n",
       "    <path class=\"displacy-arrowhead\" d=\"M595,354.0 L587,342.0 603,342.0\" fill=\"currentColor\"/>\n",
       "</g>\n",
       "\n",
       "<g class=\"displacy-arrow\">\n",
       "    <path class=\"displacy-arc\" id=\"arrow-7bfc9a67e99145ccb02dfde3b870d362-0-4\" stroke-width=\"2px\" d=\"M245,352.0 C245,89.5 745.0,89.5 745.0,352.0\" fill=\"none\" stroke=\"currentColor\"/>\n",
       "    <text dy=\"1.25em\" style=\"font-size: 0.8em; letter-spacing: 1px\">\n",
       "        <textPath xlink:href=\"#arrow-7bfc9a67e99145ccb02dfde3b870d362-0-4\" class=\"displacy-label\" startOffset=\"50%\" side=\"left\" fill=\"currentColor\" text-anchor=\"middle\">flat</textPath>\n",
       "    </text>\n",
       "    <path class=\"displacy-arrowhead\" d=\"M745.0,354.0 L753.0,342.0 737.0,342.0\" fill=\"currentColor\"/>\n",
       "</g>\n",
       "\n",
       "<g class=\"displacy-arrow\">\n",
       "    <path class=\"displacy-arc\" id=\"arrow-7bfc9a67e99145ccb02dfde3b870d362-0-5\" stroke-width=\"2px\" d=\"M945,352.0 C945,177.0 1265.0,177.0 1265.0,352.0\" fill=\"none\" stroke=\"currentColor\"/>\n",
       "    <text dy=\"1.25em\" style=\"font-size: 0.8em; letter-spacing: 1px\">\n",
       "        <textPath xlink:href=\"#arrow-7bfc9a67e99145ccb02dfde3b870d362-0-5\" class=\"displacy-label\" startOffset=\"50%\" side=\"left\" fill=\"currentColor\" text-anchor=\"middle\">cop</textPath>\n",
       "    </text>\n",
       "    <path class=\"displacy-arrowhead\" d=\"M945,354.0 L937,342.0 953,342.0\" fill=\"currentColor\"/>\n",
       "</g>\n",
       "\n",
       "<g class=\"displacy-arrow\">\n",
       "    <path class=\"displacy-arc\" id=\"arrow-7bfc9a67e99145ccb02dfde3b870d362-0-6\" stroke-width=\"2px\" d=\"M1120,352.0 C1120,264.5 1260.0,264.5 1260.0,352.0\" fill=\"none\" stroke=\"currentColor\"/>\n",
       "    <text dy=\"1.25em\" style=\"font-size: 0.8em; letter-spacing: 1px\">\n",
       "        <textPath xlink:href=\"#arrow-7bfc9a67e99145ccb02dfde3b870d362-0-6\" class=\"displacy-label\" startOffset=\"50%\" side=\"left\" fill=\"currentColor\" text-anchor=\"middle\">det</textPath>\n",
       "    </text>\n",
       "    <path class=\"displacy-arrowhead\" d=\"M1120,354.0 L1112,342.0 1128,342.0\" fill=\"currentColor\"/>\n",
       "</g>\n",
       "\n",
       "<g class=\"displacy-arrow\">\n",
       "    <path class=\"displacy-arc\" id=\"arrow-7bfc9a67e99145ccb02dfde3b870d362-0-7\" stroke-width=\"2px\" d=\"M1470,352.0 C1470,264.5 1610.0,264.5 1610.0,352.0\" fill=\"none\" stroke=\"currentColor\"/>\n",
       "    <text dy=\"1.25em\" style=\"font-size: 0.8em; letter-spacing: 1px\">\n",
       "        <textPath xlink:href=\"#arrow-7bfc9a67e99145ccb02dfde3b870d362-0-7\" class=\"displacy-label\" startOffset=\"50%\" side=\"left\" fill=\"currentColor\" text-anchor=\"middle\">case</textPath>\n",
       "    </text>\n",
       "    <path class=\"displacy-arrowhead\" d=\"M1470,354.0 L1462,342.0 1478,342.0\" fill=\"currentColor\"/>\n",
       "</g>\n",
       "\n",
       "<g class=\"displacy-arrow\">\n",
       "    <path class=\"displacy-arc\" id=\"arrow-7bfc9a67e99145ccb02dfde3b870d362-0-8\" stroke-width=\"2px\" d=\"M1295,352.0 C1295,177.0 1615.0,177.0 1615.0,352.0\" fill=\"none\" stroke=\"currentColor\"/>\n",
       "    <text dy=\"1.25em\" style=\"font-size: 0.8em; letter-spacing: 1px\">\n",
       "        <textPath xlink:href=\"#arrow-7bfc9a67e99145ccb02dfde3b870d362-0-8\" class=\"displacy-label\" startOffset=\"50%\" side=\"left\" fill=\"currentColor\" text-anchor=\"middle\">nmod</textPath>\n",
       "    </text>\n",
       "    <path class=\"displacy-arrowhead\" d=\"M1615.0,354.0 L1623.0,342.0 1607.0,342.0\" fill=\"currentColor\"/>\n",
       "</g>\n",
       "\n",
       "<g class=\"displacy-arrow\">\n",
       "    <path class=\"displacy-arc\" id=\"arrow-7bfc9a67e99145ccb02dfde3b870d362-0-9\" stroke-width=\"2px\" d=\"M1645,352.0 C1645,264.5 1785.0,264.5 1785.0,352.0\" fill=\"none\" stroke=\"currentColor\"/>\n",
       "    <text dy=\"1.25em\" style=\"font-size: 0.8em; letter-spacing: 1px\">\n",
       "        <textPath xlink:href=\"#arrow-7bfc9a67e99145ccb02dfde3b870d362-0-9\" class=\"displacy-label\" startOffset=\"50%\" side=\"left\" fill=\"currentColor\" text-anchor=\"middle\">amod</textPath>\n",
       "    </text>\n",
       "    <path class=\"displacy-arrowhead\" d=\"M1785.0,354.0 L1793.0,342.0 1777.0,342.0\" fill=\"currentColor\"/>\n",
       "</g>\n",
       "\n",
       "<g class=\"displacy-arrow\">\n",
       "    <path class=\"displacy-arc\" id=\"arrow-7bfc9a67e99145ccb02dfde3b870d362-0-10\" stroke-width=\"2px\" d=\"M1995,352.0 C1995,177.0 2315.0,177.0 2315.0,352.0\" fill=\"none\" stroke=\"currentColor\"/>\n",
       "    <text dy=\"1.25em\" style=\"font-size: 0.8em; letter-spacing: 1px\">\n",
       "        <textPath xlink:href=\"#arrow-7bfc9a67e99145ccb02dfde3b870d362-0-10\" class=\"displacy-label\" startOffset=\"50%\" side=\"left\" fill=\"currentColor\" text-anchor=\"middle\">case</textPath>\n",
       "    </text>\n",
       "    <path class=\"displacy-arrowhead\" d=\"M1995,354.0 L1987,342.0 2003,342.0\" fill=\"currentColor\"/>\n",
       "</g>\n",
       "\n",
       "<g class=\"displacy-arrow\">\n",
       "    <path class=\"displacy-arc\" id=\"arrow-7bfc9a67e99145ccb02dfde3b870d362-0-11\" stroke-width=\"2px\" d=\"M2170,352.0 C2170,264.5 2310.0,264.5 2310.0,352.0\" fill=\"none\" stroke=\"currentColor\"/>\n",
       "    <text dy=\"1.25em\" style=\"font-size: 0.8em; letter-spacing: 1px\">\n",
       "        <textPath xlink:href=\"#arrow-7bfc9a67e99145ccb02dfde3b870d362-0-11\" class=\"displacy-label\" startOffset=\"50%\" side=\"left\" fill=\"currentColor\" text-anchor=\"middle\">det</textPath>\n",
       "    </text>\n",
       "    <path class=\"displacy-arrowhead\" d=\"M2170,354.0 L2162,342.0 2178,342.0\" fill=\"currentColor\"/>\n",
       "</g>\n",
       "\n",
       "<g class=\"displacy-arrow\">\n",
       "    <path class=\"displacy-arc\" id=\"arrow-7bfc9a67e99145ccb02dfde3b870d362-0-12\" stroke-width=\"2px\" d=\"M1295,352.0 C1295,2.0 2325.0,2.0 2325.0,352.0\" fill=\"none\" stroke=\"currentColor\"/>\n",
       "    <text dy=\"1.25em\" style=\"font-size: 0.8em; letter-spacing: 1px\">\n",
       "        <textPath xlink:href=\"#arrow-7bfc9a67e99145ccb02dfde3b870d362-0-12\" class=\"displacy-label\" startOffset=\"50%\" side=\"left\" fill=\"currentColor\" text-anchor=\"middle\">nmod</textPath>\n",
       "    </text>\n",
       "    <path class=\"displacy-arrowhead\" d=\"M2325.0,354.0 L2333.0,342.0 2317.0,342.0\" fill=\"currentColor\"/>\n",
       "</g>\n",
       "\n",
       "<g class=\"displacy-arrow\">\n",
       "    <path class=\"displacy-arc\" id=\"arrow-7bfc9a67e99145ccb02dfde3b870d362-0-13\" stroke-width=\"2px\" d=\"M2520,352.0 C2520,264.5 2660.0,264.5 2660.0,352.0\" fill=\"none\" stroke=\"currentColor\"/>\n",
       "    <text dy=\"1.25em\" style=\"font-size: 0.8em; letter-spacing: 1px\">\n",
       "        <textPath xlink:href=\"#arrow-7bfc9a67e99145ccb02dfde3b870d362-0-13\" class=\"displacy-label\" startOffset=\"50%\" side=\"left\" fill=\"currentColor\" text-anchor=\"middle\">case</textPath>\n",
       "    </text>\n",
       "    <path class=\"displacy-arrowhead\" d=\"M2520,354.0 L2512,342.0 2528,342.0\" fill=\"currentColor\"/>\n",
       "</g>\n",
       "\n",
       "<g class=\"displacy-arrow\">\n",
       "    <path class=\"displacy-arc\" id=\"arrow-7bfc9a67e99145ccb02dfde3b870d362-0-14\" stroke-width=\"2px\" d=\"M2345,352.0 C2345,177.0 2665.0,177.0 2665.0,352.0\" fill=\"none\" stroke=\"currentColor\"/>\n",
       "    <text dy=\"1.25em\" style=\"font-size: 0.8em; letter-spacing: 1px\">\n",
       "        <textPath xlink:href=\"#arrow-7bfc9a67e99145ccb02dfde3b870d362-0-14\" class=\"displacy-label\" startOffset=\"50%\" side=\"left\" fill=\"currentColor\" text-anchor=\"middle\">nmod</textPath>\n",
       "    </text>\n",
       "    <path class=\"displacy-arrowhead\" d=\"M2665.0,354.0 L2673.0,342.0 2657.0,342.0\" fill=\"currentColor\"/>\n",
       "</g>\n",
       "</svg></span>"
      ],
      "text/plain": [
       "<IPython.core.display.HTML object>"
      ]
     },
     "metadata": {},
     "output_type": "display_data"
    }
   ],
   "source": [
    "displacy.render(texto, style=\"dep\", jupyter=True)"
   ]
  },
  {
   "cell_type": "code",
   "execution_count": null,
   "metadata": {},
   "outputs": [],
   "source": []
  }
 ],
 "metadata": {
  "file_extension": ".py",
  "kernelspec": {
   "display_name": "Python 3.8.0 64-bit",
   "language": "python",
   "name": "python38064bit205ef2505c1b4da4b889c22a6b8867bc"
  },
  "language_info": {
   "codemirror_mode": {
    "name": "ipython",
    "version": 3
   },
   "file_extension": ".py",
   "mimetype": "text/x-python",
   "name": "python",
   "nbconvert_exporter": "python",
   "pygments_lexer": "ipython3",
   "version": "3.8.0"
  },
  "mimetype": "text/x-python",
  "name": "python",
  "npconvert_exporter": "python",
  "pygments_lexer": "ipython3",
  "version": 3
 },
 "nbformat": 4,
 "nbformat_minor": 4
}
